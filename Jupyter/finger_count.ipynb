{
 "cells": [
  {
   "cell_type": "code",
   "execution_count": 1,
   "metadata": {},
   "outputs": [],
   "source": [
    "import cv2\n",
    "import numpy as np\n",
    "\n",
    "from sklearn.metrics import pairwise"
   ]
  },
  {
   "cell_type": "code",
   "execution_count": 2,
   "metadata": {},
   "outputs": [],
   "source": [
    "backGround = None\n",
    "accumulated_weight = 0.5\n",
    "\n",
    "roi_top = 20\n",
    "roi_bottom = 300\n",
    "roi_right = 300\n",
    "roi_left = 600"
   ]
  },
  {
   "cell_type": "code",
   "execution_count": 3,
   "metadata": {},
   "outputs": [],
   "source": [
    "def calc_accum_avg(frame,accumulated_weight):\n",
    "    \n",
    "    global backGround\n",
    "    \n",
    "    if backGround is None:\n",
    "        backGround = frame.copy().astype('float')\n",
    "        return None\n",
    "    \n",
    "    cv2.accumulated_weight(frame,backGround,accumulated_weight)"
   ]
  },
  {
   "cell_type": "code",
   "execution_count": 4,
   "metadata": {},
   "outputs": [],
   "source": [
    "def segment(frame,threshold_min=25):\n",
    "    \n",
    "    diff = cv2.absdiff(backGround.astype('uint8'),frame)\n",
    "    \n",
    "    ret, thresh = cv2.threshold(diff,threshold_min,255,\n",
    "                               cv2.THRESH_BINARY)\n",
    "    \n",
    "    image, cts, hierarchy = cv2.findContours(thresh.copy(),\n",
    "                                            cv2.RETR_EXTERNAL,\n",
    "                                            cv2.CHAIN_APPROX_SIMPLE)\n",
    "    \n",
    "    if len(cts) == 0:\n",
    "        return None\n",
    "    \n",
    "    else:\n",
    "        # The largest external contour in roi, is the hand.\n",
    "        hand_segment = max(cts,key=cv2.contourArea)\n",
    "        \n",
    "        return (thresh,hand_segment)"
   ]
  },
  {
   "cell_type": "code",
   "execution_count": 5,
   "metadata": {},
   "outputs": [],
   "source": [
    "def count_fingers(thresh,hand_segment):\n",
    "    \n",
    "    conv_hull = cv2.convexHull(hand_segment)\n",
    "    \n",
    "    top = tuple(conv_hull[conv_hull[:,:,1].argmin()[0]])\n",
    "    bottom = tuple(conv_hull[conv_hull[:,:,1].argmax()[0]])\n",
    "    left = tuple(conv_hull[conv_hull[:,:,0].argmin()[0]])\n",
    "    right = tuple(conv_hull[conv_hull[:,:,0].argmax()[0]])\n",
    "    \n",
    "    cX = (left[0] + right[0]) // 2\n",
    "    cY = (top[1] + bottom[1]) // 2\n",
    "    \n",
    "    distance = pairwise.euclidean_distances([cX,cY], Y=[left,right,top,bottom])[0]\n",
    "    \n",
    "    max_distance = distance.max()\n",
    "    \n",
    "    #Depends on the size of the hand\n",
    "    radius = int(0.9 * max_distance)\n",
    "    circumference = (2 * np.pi * radius)\n",
    "    \n",
    "    circular_roi = np.zeros(thresh[:2],dtype='uint8')\n",
    "    \n",
    "    cv2.circle(circular_roi,(cX,cY),radius,255,10)\n",
    "    \n",
    "    circular_roi = cv2.bitwise_and(thresh,thresh,\n",
    "                                  mask=circular_roi)\n",
    "    \n",
    "    image, cts, hierarchy = cv2.findContours(circular_roi.copy(),\n",
    "                                            cv2.RETR_EXTERNAL,\n",
    "                                            cv2.CHAIN_APPROX_SIMPLE)\n",
    "    \n",
    "    \n",
    "    count = 0\n",
    "    \n",
    "    for cnt in cts:\n",
    "        \n",
    "        (x,y,w,h) = cv2.boundingRect(cnt)\n",
    "        \n",
    "        # Limits \n",
    "        out_of_wrist = (cY + (cY*0.25)) > (y+h)\n",
    "        limit_points = ((circumference*0.25) > cnt.shape[0])\n",
    "        \n",
    "        if out_of_wrist and limit_points:\n",
    "            count += 1\n",
    "            \n",
    "    return count\n",
    "    \n",
    "    "
   ]
  },
  {
   "cell_type": "code",
   "execution_count": null,
   "metadata": {},
   "outputs": [],
   "source": []
  }
 ],
 "metadata": {
  "kernelspec": {
   "display_name": "Python 3",
   "language": "python",
   "name": "python3"
  },
  "language_info": {
   "codemirror_mode": {
    "name": "ipython",
    "version": 3
   },
   "file_extension": ".py",
   "mimetype": "text/x-python",
   "name": "python",
   "nbconvert_exporter": "python",
   "pygments_lexer": "ipython3",
   "version": "3.7.1"
  }
 },
 "nbformat": 4,
 "nbformat_minor": 2
}
