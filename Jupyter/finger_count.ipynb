{
 "cells": [
  {
   "cell_type": "code",
   "execution_count": 2,
   "metadata": {},
   "outputs": [],
   "source": [
    "import cv2\n",
    "import numpy as np\n",
    "\n",
    "from sklearn.metrics import pairwise"
   ]
  },
  {
   "cell_type": "code",
   "execution_count": 3,
   "metadata": {},
   "outputs": [],
   "source": [
    "backGround = None\n",
    "accumulated_weight = 0.5\n",
    "\n",
    "roi_top = 20\n",
    "roi_bottom = 300\n",
    "roi_right = 300\n",
    "roi_left = 600"
   ]
  },
  {
   "cell_type": "code",
   "execution_count": 4,
   "metadata": {},
   "outputs": [],
   "source": [
    "def calc_accum_avg(frame,accumulated_weight):\n",
    "    \n",
    "    global backGround\n",
    "    \n",
    "    if backGround is None:\n",
    "        backGround = frame.copy().astype('float')\n",
    "        return None\n",
    "    \n",
    "    cv2.accumulated_weight(frame,backGround,accumulated_weight)"
   ]
  },
  {
   "cell_type": "code",
   "execution_count": null,
   "metadata": {},
   "outputs": [],
   "source": [
    "def segment(frame,threshold_min=25):\n",
    "    \n",
    "    diff = cv2.absdiff(backGround.astype('uint8'),frame)\n",
    "    \n",
    "    ret, thresh = cv2.threshold(diff,threshold_min,255,\n",
    "                               cv2.THRESH_BINARY)\n",
    "    \n",
    "    image, cts, hierarchy = cv2.findContours(thresh.copy(),\n",
    "                                            cv2.RETR_EXTERNAL,\n",
    "                                            cv2.CHAIN_APPROX_SIMPLE)\n",
    "    \n",
    "    if len(cts) == 0:\n",
    "        return None\n",
    "    \n",
    "    else:\n",
    "        # The largest external contour in roi, is the hand.\n",
    "        hand_segment = max(cts,key=cv2.contourArea)\n",
    "        \n",
    "        return (thresh,hand_segment)"
   ]
  }
 ],
 "metadata": {
  "kernelspec": {
   "display_name": "Python 3",
   "language": "python",
   "name": "python3"
  },
  "language_info": {
   "codemirror_mode": {
    "name": "ipython",
    "version": 3
   },
   "file_extension": ".py",
   "mimetype": "text/x-python",
   "name": "python",
   "nbconvert_exporter": "python",
   "pygments_lexer": "ipython3",
   "version": "3.7.1"
  }
 },
 "nbformat": 4,
 "nbformat_minor": 2
}
